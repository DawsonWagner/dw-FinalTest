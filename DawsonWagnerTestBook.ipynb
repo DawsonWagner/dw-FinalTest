{
 "cells": [
  {
   "cell_type": "markdown",
   "metadata": {},
   "source": [
    "# MC316 Final Exam – Part B: PYTHON"
   ]
  },
  {
   "cell_type": "markdown",
   "metadata": {},
   "source": [
    "* You will have 1 hour and 40 minutes to finish the test.\n",
    "* This part includes 10 questions. Each question is worth 15 points.\n",
    "* You get extra 30 points for full answers.\n",
    "* Please read the instructions carefully. "
   ]
  },
  {
   "cell_type": "markdown",
   "metadata": {},
   "source": [
    "## I. SET UP\n"
   ]
  },
  {
   "cell_type": "markdown",
   "metadata": {},
   "source": [
    "### Import pandas library for use in scripting. "
   ]
  },
  {
   "cell_type": "code",
   "execution_count": 9,
   "metadata": {},
   "outputs": [],
   "source": [
    "import pandas as pd"
   ]
  },
  {
   "cell_type": "markdown",
   "metadata": {},
   "source": [
    "### Import the datasets and name them.\n",
    "For this test, you will analyze revenue and expenditure data released by Kansas Department of Administration for the fiscal year 2018. While the original data can be directly downloaded [here](http://kanview.ks.gov/DataDownload.aspx), for your convenience, the instructor had them uploaded to a server at the following urls. \n",
    "\n",
    "#### For Kansas State University:\n",
    "1. Expenditure data: https://datajournalism.tech/wp-content/uploads/2019/05/ExpData_367_2018.csv\n",
    "2. Revenue data: https://datajournalism.tech/wp-content/uploads/2019/05/RevData_367_2018.csv\n",
    "\n",
    "#### For University of Kansas:\n",
    "3. Expenditure data: https://datajournalism.tech/wp-content/uploads/2019/05/ExpData_682_2018.csv\n",
    "4. Revenue data: https://datajournalism.tech/wp-content/uploads/2019/05/RevData_682_2018.csv\n",
    "\n",
    "You will need to import all 4 datasets and name them in an easy way to call out later.\n",
    "\n",
    "*Please refer to the [Glossary](http://kanview.ks.gov/Glossary.aspx#f) for data description."
   ]
  },
  {
   "cell_type": "code",
   "execution_count": 11,
   "metadata": {},
   "outputs": [],
   "source": [
    "KSUexpen = pd.read_csv(\"https://datajournalism.tech/wp-content/uploads/2019/05/ExpData_367_2018.csv\")"
   ]
  },
  {
   "cell_type": "code",
   "execution_count": 12,
   "metadata": {},
   "outputs": [],
   "source": [
    "KSUrev = pd.read_csv(\"https://datajournalism.tech/wp-content/uploads/2019/05/RevData_367_2018.csv\")"
   ]
  },
  {
   "cell_type": "code",
   "execution_count": 13,
   "metadata": {},
   "outputs": [],
   "source": [
    "KUexpen = pd.read_csv(\"https://datajournalism.tech/wp-content/uploads/2019/05/ExpData_682_2018.csv\")"
   ]
  },
  {
   "cell_type": "code",
   "execution_count": 14,
   "metadata": {},
   "outputs": [],
   "source": [
    "KUrev = pd.read_csv(\"https://datajournalism.tech/wp-content/uploads/2019/05/RevData_682_2018.csv\")"
   ]
  },
  {
   "cell_type": "markdown",
   "metadata": {},
   "source": [
    "## II. REQUIRED QUESTIONS\n",
    "* Make sure you type the answers in the cells right below the codes.\n",
    "* If you need to add extra cells, click the + button in the toolbar up the top. "
   ]
  },
  {
   "cell_type": "markdown",
   "metadata": {},
   "source": [
    "### Q1: What is the total revenue recorded for Kansas State University in the fiscal year of 2018? How does it compare to the total revenue recorded for University of Kansas in the same year?"
   ]
  },
  {
   "cell_type": "code",
   "execution_count": 28,
   "metadata": {},
   "outputs": [
    {
     "name": "stdout",
     "output_type": "stream",
     "text": [
      "<class 'pandas.core.frame.DataFrame'>\n",
      "RangeIndex: 1910 entries, 0 to 1909\n",
      "Data columns (total 22 columns):\n",
      "Fiscal_Year                        1910 non-null int64\n",
      "Fiscal_Quarter                     1910 non-null int64\n",
      "Business_Unit                      1910 non-null int64\n",
      "Business_Unit_Descr                1910 non-null object\n",
      "GAAP_Fund_Type                     1910 non-null int64\n",
      "GAAP_Fund_Type_Descr               1910 non-null object\n",
      "Fund_Code                          1910 non-null int64\n",
      "Fund_Code_Descr                    1910 non-null object\n",
      "Budget_Ref                         1910 non-null int64\n",
      "Budget_Ref_Descr                   1910 non-null object\n",
      "Program_Code                       1910 non-null int64\n",
      "Program_Code_Descr                 1910 non-null object\n",
      "State_Function                     1910 non-null int64\n",
      "State_Function_Descr               1910 non-null object\n",
      "Primary_Account_Code               1910 non-null int64\n",
      "Primary_Account_Code_Descr         1910 non-null object\n",
      "Intermediate_Account_Code          1910 non-null int64\n",
      "Intermediate_Account_Code_Descr    1910 non-null object\n",
      "Detail_Account_Code                1910 non-null int64\n",
      "Detail_Account_Code_Descr          1910 non-null object\n",
      "Total                              1910 non-null float64\n",
      "Unnamed: 21                        0 non-null float64\n",
      "dtypes: float64(2), int64(11), object(9)\n",
      "memory usage: 328.4+ KB\n"
     ]
    }
   ],
   "source": [
    "KSUrev.info(\"https://datajournalism.tech/wp-content/uploads/2019/05/ExpData_367_2018.csv\")"
   ]
  },
  {
   "cell_type": "code",
   "execution_count": 29,
   "metadata": {},
   "outputs": [
    {
     "name": "stdout",
     "output_type": "stream",
     "text": [
      "<class 'pandas.core.frame.DataFrame'>\n",
      "RangeIndex: 1077 entries, 0 to 1076\n",
      "Data columns (total 22 columns):\n",
      "Fiscal_Year                        1077 non-null int64\n",
      "Fiscal_Quarter                     1077 non-null int64\n",
      "Business_Unit                      1077 non-null int64\n",
      "Business_Unit_Descr                1077 non-null object\n",
      "GAAP_Fund_Type                     1077 non-null int64\n",
      "GAAP_Fund_Type_Descr               1077 non-null object\n",
      "Fund_Code                          1077 non-null int64\n",
      "Fund_Code_Descr                    1077 non-null object\n",
      "Budget_Ref                         1077 non-null int64\n",
      "Budget_Ref_Descr                   1077 non-null object\n",
      "Program_Code                       1077 non-null int64\n",
      "Program_Code_Descr                 1077 non-null object\n",
      "State_Function                     1077 non-null int64\n",
      "State_Function_Descr               1077 non-null object\n",
      "Primary_Account_Code               1077 non-null int64\n",
      "Primary_Account_Code_Descr         1077 non-null object\n",
      "Intermediate_Account_Code          1077 non-null int64\n",
      "Intermediate_Account_Code_Descr    1077 non-null object\n",
      "Detail_Account_Code                1077 non-null int64\n",
      "Detail_Account_Code_Descr          1077 non-null object\n",
      "Total                              1077 non-null float64\n",
      "Unnamed: 21                        0 non-null float64\n",
      "dtypes: float64(2), int64(11), object(9)\n",
      "memory usage: 185.2+ KB\n"
     ]
    }
   ],
   "source": [
    "KUrev.info(\"https://datajournalism.tech/wp-content/uploads/2019/05/ExpData_682_2018.csv\")"
   ]
  },
  {
   "cell_type": "code",
   "execution_count": 61,
   "metadata": {},
   "outputs": [
    {
     "data": {
      "text/plain": [
       "91090183.66"
      ]
     },
     "execution_count": 61,
     "metadata": {},
     "output_type": "execute_result"
    }
   ],
   "source": [
    "KSUrev.Total.max()"
   ]
  },
  {
   "cell_type": "code",
   "execution_count": 62,
   "metadata": {},
   "outputs": [
    {
     "data": {
      "text/plain": [
       "124870966.43"
      ]
     },
     "execution_count": 62,
     "metadata": {},
     "output_type": "execute_result"
    }
   ],
   "source": [
    "KUrev.Total.max()"
   ]
  },
  {
   "cell_type": "markdown",
   "metadata": {},
   "source": [
    "<b>Answer:</b> After adding up the total revenue for Kansas State University it made 91090183 in revenue compared to The University of Kansas that made 124870966 meaning KU made more in revenue in the fiscal year of 2018."
   ]
  },
  {
   "cell_type": "markdown",
   "metadata": {},
   "source": [
    "### Q2: What is the total expense recorded for Kansas State University in the fiscal year of 2018? How does it compare to the total expense recorded for University of Kansas in the same year?"
   ]
  },
  {
   "cell_type": "code",
   "execution_count": 59,
   "metadata": {},
   "outputs": [
    {
     "data": {
      "text/plain": [
       "1018584373.02"
      ]
     },
     "execution_count": 59,
     "metadata": {},
     "output_type": "execute_result"
    }
   ],
   "source": [
    "KSUexpen.Total.sum()"
   ]
  },
  {
   "cell_type": "code",
   "execution_count": 60,
   "metadata": {},
   "outputs": [
    {
     "data": {
      "text/plain": [
       "990238875.6099999"
      ]
     },
     "execution_count": 60,
     "metadata": {},
     "output_type": "execute_result"
    }
   ],
   "source": [
    "KUexpen.Total.sum()"
   ]
  },
  {
   "cell_type": "markdown",
   "metadata": {},
   "source": [
    "<b>Answer:</b> The total expense recorded for KSU in the Fiscal year of 2018 was 1018584373 compared to KU's which was 990238875. KSU in this instance had more expenses than KU in the fiscal year of 2018."
   ]
  },
  {
   "cell_type": "markdown",
   "metadata": {},
   "source": [
    "### Q3: Where did the two universities' primary revenues come from? \n",
    "*Refer to the description [here](http://kanview.ks.gov/Revenues/AcctCodeRevenues.aspx) to write your answer."
   ]
  },
  {
   "cell_type": "code",
   "execution_count": 76,
   "metadata": {},
   "outputs": [
    {
     "data": {
      "text/html": [
       "<div>\n",
       "<style scoped>\n",
       "    .dataframe tbody tr th:only-of-type {\n",
       "        vertical-align: middle;\n",
       "    }\n",
       "\n",
       "    .dataframe tbody tr th {\n",
       "        vertical-align: top;\n",
       "    }\n",
       "\n",
       "    .dataframe thead th {\n",
       "        text-align: right;\n",
       "    }\n",
       "</style>\n",
       "<table border=\"1\" class=\"dataframe\">\n",
       "  <thead>\n",
       "    <tr style=\"text-align: right;\">\n",
       "      <th></th>\n",
       "      <th>index</th>\n",
       "      <th>Primary_Account_Code_Descr</th>\n",
       "    </tr>\n",
       "  </thead>\n",
       "  <tbody>\n",
       "    <tr>\n",
       "      <th>0</th>\n",
       "      <td>AGENCY EARNINGS</td>\n",
       "      <td>637</td>\n",
       "    </tr>\n",
       "    <tr>\n",
       "      <th>1</th>\n",
       "      <td>REV FROM USE OF MONEY &amp; PROP</td>\n",
       "      <td>354</td>\n",
       "    </tr>\n",
       "    <tr>\n",
       "      <th>2</th>\n",
       "      <td>REVENUE TRANSFERS</td>\n",
       "      <td>341</td>\n",
       "    </tr>\n",
       "    <tr>\n",
       "      <th>3</th>\n",
       "      <td>NON REVENUE RECEIPTS</td>\n",
       "      <td>259</td>\n",
       "    </tr>\n",
       "    <tr>\n",
       "      <th>4</th>\n",
       "      <td>OTHER REVENUE</td>\n",
       "      <td>160</td>\n",
       "    </tr>\n",
       "    <tr>\n",
       "      <th>5</th>\n",
       "      <td>GIFT DONATION FEDERAL GRANTS</td>\n",
       "      <td>152</td>\n",
       "    </tr>\n",
       "    <tr>\n",
       "      <th>6</th>\n",
       "      <td>TAXES</td>\n",
       "      <td>7</td>\n",
       "    </tr>\n",
       "  </tbody>\n",
       "</table>\n",
       "</div>"
      ],
      "text/plain": [
       "                            index  Primary_Account_Code_Descr\n",
       "0  AGENCY EARNINGS                                        637\n",
       "1  REV FROM USE OF MONEY & PROP                           354\n",
       "2  REVENUE TRANSFERS                                      341\n",
       "3  NON REVENUE RECEIPTS                                   259\n",
       "4  OTHER REVENUE                                          160\n",
       "5  GIFT DONATION FEDERAL GRANTS                           152\n",
       "6  TAXES                                                    7"
      ]
     },
     "execution_count": 76,
     "metadata": {},
     "output_type": "execute_result"
    }
   ],
   "source": [
    "KSUrev.Primary_Account_Code_Descr.value_counts().reset_index()"
   ]
  },
  {
   "cell_type": "code",
   "execution_count": 77,
   "metadata": {},
   "outputs": [
    {
     "data": {
      "text/html": [
       "<div>\n",
       "<style scoped>\n",
       "    .dataframe tbody tr th:only-of-type {\n",
       "        vertical-align: middle;\n",
       "    }\n",
       "\n",
       "    .dataframe tbody tr th {\n",
       "        vertical-align: top;\n",
       "    }\n",
       "\n",
       "    .dataframe thead th {\n",
       "        text-align: right;\n",
       "    }\n",
       "</style>\n",
       "<table border=\"1\" class=\"dataframe\">\n",
       "  <thead>\n",
       "    <tr style=\"text-align: right;\">\n",
       "      <th></th>\n",
       "      <th>index</th>\n",
       "      <th>Primary_Account_Code_Descr</th>\n",
       "    </tr>\n",
       "  </thead>\n",
       "  <tbody>\n",
       "    <tr>\n",
       "      <th>0</th>\n",
       "      <td>AGENCY EARNINGS</td>\n",
       "      <td>376</td>\n",
       "    </tr>\n",
       "    <tr>\n",
       "      <th>1</th>\n",
       "      <td>REV FROM USE OF MONEY &amp; PROP</td>\n",
       "      <td>251</td>\n",
       "    </tr>\n",
       "    <tr>\n",
       "      <th>2</th>\n",
       "      <td>NON REVENUE RECEIPTS</td>\n",
       "      <td>157</td>\n",
       "    </tr>\n",
       "    <tr>\n",
       "      <th>3</th>\n",
       "      <td>REVENUE TRANSFERS</td>\n",
       "      <td>153</td>\n",
       "    </tr>\n",
       "    <tr>\n",
       "      <th>4</th>\n",
       "      <td>OTHER REVENUE</td>\n",
       "      <td>57</td>\n",
       "    </tr>\n",
       "    <tr>\n",
       "      <th>5</th>\n",
       "      <td>TAXES</td>\n",
       "      <td>45</td>\n",
       "    </tr>\n",
       "    <tr>\n",
       "      <th>6</th>\n",
       "      <td>GIFT DONATION FEDERAL GRANTS</td>\n",
       "      <td>38</td>\n",
       "    </tr>\n",
       "  </tbody>\n",
       "</table>\n",
       "</div>"
      ],
      "text/plain": [
       "                            index  Primary_Account_Code_Descr\n",
       "0  AGENCY EARNINGS                                        376\n",
       "1  REV FROM USE OF MONEY & PROP                           251\n",
       "2  NON REVENUE RECEIPTS                                   157\n",
       "3  REVENUE TRANSFERS                                      153\n",
       "4  OTHER REVENUE                                           57\n",
       "5  TAXES                                                   45\n",
       "6  GIFT DONATION FEDERAL GRANTS                            38"
      ]
     },
     "execution_count": 77,
     "metadata": {},
     "output_type": "execute_result"
    }
   ],
   "source": [
    "KUrev.Primary_Account_Code_Descr.value_counts().reset_index()"
   ]
  },
  {
   "cell_type": "markdown",
   "metadata": {},
   "source": [
    "<b>Answer:</b> KSU had Agency Earnings as their primary revenue source at 637 as well did KU as their primary revenue source at 376"
   ]
  },
  {
   "cell_type": "markdown",
   "metadata": {},
   "source": [
    "### Q4: What was the biggest source of revenues for Kansas State University? Compare to the one of University of Kansas."
   ]
  },
  {
   "cell_type": "markdown",
   "metadata": {},
   "source": [
    "Remove hashtag and run the following code to suppress scientific notation:"
   ]
  },
  {
   "cell_type": "code",
   "execution_count": 71,
   "metadata": {},
   "outputs": [],
   "source": [
    "pd.set_option('display.float_format', lambda x: '%.3f' % x) "
   ]
  },
  {
   "cell_type": "code",
   "execution_count": 93,
   "metadata": {},
   "outputs": [
    {
     "data": {
      "text/plain": [
       "Primary_Account_Code_Descr\n",
       "AGENCY EARNINGS                 72982844.780\n",
       "GIFT DONATION FEDERAL GRANTS    11511087.710\n",
       "NON REVENUE RECEIPTS            38810748.620\n",
       "OTHER REVENUE                   21647825.100\n",
       "REV FROM USE OF MONEY & PROP    88209447.500\n",
       "REVENUE TRANSFERS              237422209.080\n",
       "TAXES                           85937809.510\n",
       "Name: Total, dtype: float64"
      ]
     },
     "execution_count": 93,
     "metadata": {},
     "output_type": "execute_result"
    }
   ],
   "source": [
    "KSUrev.groupby(\"Primary_Account_Code_Descr\").Total.sum()"
   ]
  },
  {
   "cell_type": "code",
   "execution_count": 95,
   "metadata": {},
   "outputs": [
    {
     "data": {
      "text/plain": [
       "Primary_Account_Code_Descr\n",
       "AGENCY EARNINGS                  408409337.320\n",
       "GIFT DONATION FEDERAL GRANTS     193836668.320\n",
       "NON REVENUE RECEIPTS              69753247.670\n",
       "OTHER REVENUE                     68241930.500\n",
       "REV FROM USE OF MONEY & PROP      40950779.540\n",
       "REVENUE TRANSFERS                 26013855.400\n",
       "TAXES                              1562083.800\n",
       "Name: Total, dtype: float64"
      ]
     },
     "execution_count": 95,
     "metadata": {},
     "output_type": "execute_result"
    }
   ],
   "source": [
    "KUrev.groupby(\"Primary_Account_Code_Descr\").Total.sum()"
   ]
  },
  {
   "cell_type": "markdown",
   "metadata": {},
   "source": [
    "<b>Answer:</b> The biggest source of revenues for KSU was Revenue Transfers compared to KU's which was 1,077 making a 833 difference between the two biggest source of revenues for the Universities."
   ]
  },
  {
   "cell_type": "markdown",
   "metadata": {},
   "source": [
    "### Q5: What accounts contributed to Kansas State University's biggest source of revenues?\n",
    "If you run into a situation where a filter function returns 0 results, you may want to check if there are leading and trailing spaces in the column. To clean the leading and trailing spaces, you will need to remove the hashtag, revise the names, and run the following code:"
   ]
  },
  {
   "cell_type": "code",
   "execution_count": 2,
   "metadata": {},
   "outputs": [],
   "source": [
    "#yourdataframe[\"yourcolumnname\"] = yourdataframe[\"yourcolumnname\"].str.strip()"
   ]
  },
  {
   "cell_type": "markdown",
   "metadata": {},
   "source": [
    "After cleaning the spaces, you can start filtering your datasets to find the answer for Q5."
   ]
  },
  {
   "cell_type": "code",
   "execution_count": 92,
   "metadata": {},
   "outputs": [],
   "source": [
    "KSUrev[\"Primary_Account_Code_Descr\"] = KUrev[\"Primary_Account_Code_Descr\"].str.strip()"
   ]
  },
  {
   "cell_type": "code",
   "execution_count": null,
   "metadata": {},
   "outputs": [],
   "source": []
  },
  {
   "cell_type": "markdown",
   "metadata": {},
   "source": [
    "<b>Answer:</b> "
   ]
  },
  {
   "cell_type": "markdown",
   "metadata": {},
   "source": [
    "### Q6: Where did the money go? (Answer for both universities)\n",
    "*Refer to the description [here] (http://kanview.ks.gov/Expenditures/AcctCodeExpenditures.aspx) to write your answer."
   ]
  },
  {
   "cell_type": "code",
   "execution_count": 86,
   "metadata": {},
   "outputs": [
    {
     "data": {
      "text/html": [
       "<div>\n",
       "<style scoped>\n",
       "    .dataframe tbody tr th:only-of-type {\n",
       "        vertical-align: middle;\n",
       "    }\n",
       "\n",
       "    .dataframe tbody tr th {\n",
       "        vertical-align: top;\n",
       "    }\n",
       "\n",
       "    .dataframe thead th {\n",
       "        text-align: right;\n",
       "    }\n",
       "</style>\n",
       "<table border=\"1\" class=\"dataframe\">\n",
       "  <thead>\n",
       "    <tr style=\"text-align: right;\">\n",
       "      <th></th>\n",
       "      <th>index</th>\n",
       "      <th>Primary_Account_Code_Descr</th>\n",
       "    </tr>\n",
       "  </thead>\n",
       "  <tbody>\n",
       "    <tr>\n",
       "      <th>0</th>\n",
       "      <td>CONTRACTUAL SERVICES</td>\n",
       "      <td>10561</td>\n",
       "    </tr>\n",
       "    <tr>\n",
       "      <th>1</th>\n",
       "      <td>SALARIES AND WAGES</td>\n",
       "      <td>7780</td>\n",
       "    </tr>\n",
       "    <tr>\n",
       "      <th>2</th>\n",
       "      <td>COMMODITIES</td>\n",
       "      <td>3740</td>\n",
       "    </tr>\n",
       "    <tr>\n",
       "      <th>3</th>\n",
       "      <td>CAPITAL OUTLAY</td>\n",
       "      <td>1173</td>\n",
       "    </tr>\n",
       "    <tr>\n",
       "      <th>4</th>\n",
       "      <td>GRANTS CLAIMS SHARED REVENUE</td>\n",
       "      <td>534</td>\n",
       "    </tr>\n",
       "    <tr>\n",
       "      <th>5</th>\n",
       "      <td>NONEXPENSE ITEMS</td>\n",
       "      <td>129</td>\n",
       "    </tr>\n",
       "    <tr>\n",
       "      <th>6</th>\n",
       "      <td>EXPENSE TRANSFERS</td>\n",
       "      <td>106</td>\n",
       "    </tr>\n",
       "    <tr>\n",
       "      <th>7</th>\n",
       "      <td>DEBT SERVICE</td>\n",
       "      <td>71</td>\n",
       "    </tr>\n",
       "  </tbody>\n",
       "</table>\n",
       "</div>"
      ],
      "text/plain": [
       "                            index  Primary_Account_Code_Descr\n",
       "0  CONTRACTUAL SERVICES                                 10561\n",
       "1  SALARIES AND WAGES                                    7780\n",
       "2  COMMODITIES                                           3740\n",
       "3  CAPITAL OUTLAY                                        1173\n",
       "4  GRANTS CLAIMS SHARED REVENUE                           534\n",
       "5  NONEXPENSE ITEMS                                       129\n",
       "6  EXPENSE TRANSFERS                                      106\n",
       "7  DEBT SERVICE                                            71"
      ]
     },
     "execution_count": 86,
     "metadata": {},
     "output_type": "execute_result"
    }
   ],
   "source": [
    "KSUexpen.Primary_Account_Code_Descr.value_counts().reset_index()"
   ]
  },
  {
   "cell_type": "code",
   "execution_count": 87,
   "metadata": {},
   "outputs": [
    {
     "data": {
      "text/html": [
       "<div>\n",
       "<style scoped>\n",
       "    .dataframe tbody tr th:only-of-type {\n",
       "        vertical-align: middle;\n",
       "    }\n",
       "\n",
       "    .dataframe tbody tr th {\n",
       "        vertical-align: top;\n",
       "    }\n",
       "\n",
       "    .dataframe thead th {\n",
       "        text-align: right;\n",
       "    }\n",
       "</style>\n",
       "<table border=\"1\" class=\"dataframe\">\n",
       "  <thead>\n",
       "    <tr style=\"text-align: right;\">\n",
       "      <th></th>\n",
       "      <th>index</th>\n",
       "      <th>Primary_Account_Code_Descr</th>\n",
       "    </tr>\n",
       "  </thead>\n",
       "  <tbody>\n",
       "    <tr>\n",
       "      <th>0</th>\n",
       "      <td>CONTRACTUAL SERVICES</td>\n",
       "      <td>4322</td>\n",
       "    </tr>\n",
       "    <tr>\n",
       "      <th>1</th>\n",
       "      <td>SALARIES AND WAGES</td>\n",
       "      <td>3623</td>\n",
       "    </tr>\n",
       "    <tr>\n",
       "      <th>2</th>\n",
       "      <td>COMMODITIES</td>\n",
       "      <td>1605</td>\n",
       "    </tr>\n",
       "    <tr>\n",
       "      <th>3</th>\n",
       "      <td>CAPITAL OUTLAY</td>\n",
       "      <td>737</td>\n",
       "    </tr>\n",
       "    <tr>\n",
       "      <th>4</th>\n",
       "      <td>NONEXPENSE ITEMS</td>\n",
       "      <td>81</td>\n",
       "    </tr>\n",
       "    <tr>\n",
       "      <th>5</th>\n",
       "      <td>GRANTS CLAIMS SHARED REVENUE</td>\n",
       "      <td>75</td>\n",
       "    </tr>\n",
       "    <tr>\n",
       "      <th>6</th>\n",
       "      <td>EXPENSE TRANSFERS</td>\n",
       "      <td>66</td>\n",
       "    </tr>\n",
       "    <tr>\n",
       "      <th>7</th>\n",
       "      <td>DEBT SERVICE</td>\n",
       "      <td>44</td>\n",
       "    </tr>\n",
       "  </tbody>\n",
       "</table>\n",
       "</div>"
      ],
      "text/plain": [
       "                            index  Primary_Account_Code_Descr\n",
       "0  CONTRACTUAL SERVICES                                  4322\n",
       "1  SALARIES AND WAGES                                    3623\n",
       "2  COMMODITIES                                           1605\n",
       "3  CAPITAL OUTLAY                                         737\n",
       "4  NONEXPENSE ITEMS                                        81\n",
       "5  GRANTS CLAIMS SHARED REVENUE                            75\n",
       "6  EXPENSE TRANSFERS                                       66\n",
       "7  DEBT SERVICE                                            44"
      ]
     },
     "execution_count": 87,
     "metadata": {},
     "output_type": "execute_result"
    }
   ],
   "source": [
    "KUexpen.Primary_Account_Code_Descr.value_counts().reset_index()"
   ]
  },
  {
   "cell_type": "markdown",
   "metadata": {},
   "source": [
    "<b>Answer:</b> Where the money for both Universities went was Contractual Services and KSU had 10,561 for contractual services & KU had 4,322 for contractual services."
   ]
  },
  {
   "cell_type": "markdown",
   "metadata": {},
   "source": [
    "### Q7: What costs two universities the most? "
   ]
  },
  {
   "cell_type": "code",
   "execution_count": 102,
   "metadata": {},
   "outputs": [
    {
     "data": {
      "text/html": [
       "<div>\n",
       "<style scoped>\n",
       "    .dataframe tbody tr th:only-of-type {\n",
       "        vertical-align: middle;\n",
       "    }\n",
       "\n",
       "    .dataframe tbody tr th {\n",
       "        vertical-align: top;\n",
       "    }\n",
       "\n",
       "    .dataframe thead th {\n",
       "        text-align: right;\n",
       "    }\n",
       "</style>\n",
       "<table border=\"1\" class=\"dataframe\">\n",
       "  <thead>\n",
       "    <tr style=\"text-align: right;\">\n",
       "      <th></th>\n",
       "      <th>index</th>\n",
       "      <th>Primary_Account_Code_Descr</th>\n",
       "    </tr>\n",
       "  </thead>\n",
       "  <tbody>\n",
       "    <tr>\n",
       "      <th>0</th>\n",
       "      <td>CONTRACTUAL SERVICES</td>\n",
       "      <td>10561</td>\n",
       "    </tr>\n",
       "    <tr>\n",
       "      <th>1</th>\n",
       "      <td>SALARIES AND WAGES</td>\n",
       "      <td>7780</td>\n",
       "    </tr>\n",
       "    <tr>\n",
       "      <th>2</th>\n",
       "      <td>COMMODITIES</td>\n",
       "      <td>3740</td>\n",
       "    </tr>\n",
       "    <tr>\n",
       "      <th>3</th>\n",
       "      <td>CAPITAL OUTLAY</td>\n",
       "      <td>1173</td>\n",
       "    </tr>\n",
       "    <tr>\n",
       "      <th>4</th>\n",
       "      <td>GRANTS CLAIMS SHARED REVENUE</td>\n",
       "      <td>534</td>\n",
       "    </tr>\n",
       "    <tr>\n",
       "      <th>5</th>\n",
       "      <td>NONEXPENSE ITEMS</td>\n",
       "      <td>129</td>\n",
       "    </tr>\n",
       "    <tr>\n",
       "      <th>6</th>\n",
       "      <td>EXPENSE TRANSFERS</td>\n",
       "      <td>106</td>\n",
       "    </tr>\n",
       "    <tr>\n",
       "      <th>7</th>\n",
       "      <td>DEBT SERVICE</td>\n",
       "      <td>71</td>\n",
       "    </tr>\n",
       "  </tbody>\n",
       "</table>\n",
       "</div>"
      ],
      "text/plain": [
       "                            index  Primary_Account_Code_Descr\n",
       "0  CONTRACTUAL SERVICES                                 10561\n",
       "1  SALARIES AND WAGES                                    7780\n",
       "2  COMMODITIES                                           3740\n",
       "3  CAPITAL OUTLAY                                        1173\n",
       "4  GRANTS CLAIMS SHARED REVENUE                           534\n",
       "5  NONEXPENSE ITEMS                                       129\n",
       "6  EXPENSE TRANSFERS                                      106\n",
       "7  DEBT SERVICE                                            71"
      ]
     },
     "execution_count": 102,
     "metadata": {},
     "output_type": "execute_result"
    }
   ],
   "source": [
    "KSUexpen.Primary_Account_Code_Descr.value_counts().reset_index()"
   ]
  },
  {
   "cell_type": "markdown",
   "metadata": {},
   "source": [
    "<b>Answer:</b> The two universities were cost the most by Agency Earnings"
   ]
  },
  {
   "cell_type": "markdown",
   "metadata": {},
   "source": [
    "### Q8: Calculate the percentage of this cost over each university's total expense."
   ]
  },
  {
   "cell_type": "code",
   "execution_count": null,
   "metadata": {},
   "outputs": [],
   "source": []
  },
  {
   "cell_type": "markdown",
   "metadata": {},
   "source": [
    "<b>Answer:</b> "
   ]
  },
  {
   "cell_type": "markdown",
   "metadata": {},
   "source": [
    "### Q9: Breakdown the cost you found in Q7 for both universities.\n",
    "Again, if you run into a situation where a filter function returns 0 results, you may want to check if there are leading and trailing spaces in the column. To clean the leading and trailing spaces, you will need to remove the hashtag, revise the names, and run the following code:"
   ]
  },
  {
   "cell_type": "code",
   "execution_count": 3,
   "metadata": {},
   "outputs": [],
   "source": [
    "#yourdataframe[\"yourcolumnname\"] = yourdataframe[\"yourcolumnname\"].str.strip()"
   ]
  },
  {
   "cell_type": "code",
   "execution_count": null,
   "metadata": {},
   "outputs": [],
   "source": []
  },
  {
   "cell_type": "markdown",
   "metadata": {},
   "source": [
    "<b>Answer:</b>"
   ]
  },
  {
   "cell_type": "markdown",
   "metadata": {},
   "source": [
    "### Q10: Compare the breakdown costs from Q9 side by side.\n",
    "When you merge the two subsets, make sure to add the attribute <b>how =\"outer\"</b> so that you can keep every item from both sets.\n",
    "*For example: merge = pd.merge(df1, df2, how=\"outer\", on=\"columnname\")"
   ]
  },
  {
   "cell_type": "code",
   "execution_count": null,
   "metadata": {},
   "outputs": [],
   "source": []
  },
  {
   "cell_type": "markdown",
   "metadata": {},
   "source": [
    "<b>Answer:</b>"
   ]
  },
  {
   "cell_type": "markdown",
   "metadata": {},
   "source": [
    "## III. BONUS QUESTIONS\n",
    "* Each question's worth 15 points.\n"
   ]
  },
  {
   "cell_type": "markdown",
   "metadata": {},
   "source": [
    "### B1: Which university made a profit in the fiscal year of 2018?"
   ]
  },
  {
   "cell_type": "markdown",
   "metadata": {},
   "source": [
    "<b>Answer:</b> Kansas State University"
   ]
  },
  {
   "cell_type": "markdown",
   "metadata": {},
   "source": [
    "### B2: Which software program do you like the most in this course? Why?"
   ]
  },
  {
   "cell_type": "markdown",
   "metadata": {},
   "source": [
    "<b>Answer:</b> My most favorite software program was R Studio in this course. This was my favorite even though we didn't get tested over it because of the time constraint but I learned most because of the process and way of functions that we had to insert and were able to recieve a clear outcome with what we were either doing wrong or doing correct!"
   ]
  },
  {
   "cell_type": "markdown",
   "metadata": {},
   "source": [
    "### END OF THE TEST"
   ]
  }
 ],
 "metadata": {
  "kernelspec": {
   "display_name": "Python 2",
   "language": "python",
   "name": "python2"
  },
  "language_info": {
   "codemirror_mode": {
    "name": "ipython",
    "version": 2
   },
   "file_extension": ".py",
   "mimetype": "text/x-python",
   "name": "python",
   "nbconvert_exporter": "python",
   "pygments_lexer": "ipython2",
   "version": "2.7.10"
  }
 },
 "nbformat": 4,
 "nbformat_minor": 2
}
